{
 "cells": [
  {
   "cell_type": "markdown",
   "metadata": {},
   "source": [
    "# Dữ liệu hỗ trợ của các quốc gia"
   ]
  },
  {
   "cell_type": "code",
   "execution_count": 3,
   "metadata": {},
   "outputs": [],
   "source": [
    "import pandas as pd\n",
    "import requests\n",
    "\n",
    "# Fetch the data.\n",
    "df1 = pd.read_csv(\"https://ourworldindata.org/grapher/income-support-covid.csv?v=1&csvType=full&useColumnShortNames=true\", storage_options = {'User-Agent': 'Our World In Data data fetch/1.0'})\n",
    "\n",
    "# Fetch the metadata\n",
    "metadata = requests.get(\"https://ourworldindata.org/grapher/income-support-covid.metadata.json?v=1&csvType=full&useColumnShortNames=true\").json()"
   ]
  },
  {
   "cell_type": "code",
   "execution_count": 4,
   "metadata": {},
   "outputs": [],
   "source": [
    "\n",
    "df1.to_csv(r'A:\\\\UET-VNU\\\\Covid19_KNK\\\\Datacovid19\\\\sp.csv')\n"
   ]
  },
  {
   "cell_type": "markdown",
   "metadata": {},
   "source": [
    "# Dữ liệu gdp của các quốc gia trong quý 2 2020"
   ]
  },
  {
   "cell_type": "code",
   "execution_count": null,
   "metadata": {},
   "outputs": [],
   "source": [
    "import pandas as pd\n",
    "import requests\n",
    "\n",
    "# Fetch the data.\n",
    "df2 = pd.read_csv(\"https://ourworldindata.org/grapher/economic-decline-in-the-second-quarter-of-2020.csv?v=1&csvType=full&useColumnShortNames=true\", storage_options = {'User-Agent': 'Our World In Data data fetch/1.0'})\n",
    "\n",
    "# Fetch the metadata\n",
    "metadata = requests.get(\"https://ourworldindata.org/grapher/economic-decline-in-the-second-quarter-of-2020.metadata.json?v=1&csvType=full&useColumnShortNames=true\").json()"
   ]
  },
  {
   "cell_type": "code",
   "execution_count": null,
   "metadata": {},
   "outputs": [],
   "source": [
    "df2.to_csv(r'A:\\\\UET-VNU\\\\Covid19_KNK\\\\Datacovid19\\\\gdp1.csv')"
   ]
  },
  {
   "cell_type": "markdown",
   "metadata": {},
   "source": [
    "# Dữ liệu về các chuyến đi bị ảnh hưởng do covid19"
   ]
  },
  {
   "cell_type": "code",
   "execution_count": null,
   "metadata": {},
   "outputs": [],
   "source": [
    "import pandas as pd\n",
    "import requests\n",
    "\n",
    "# Fetch the data.\n",
    "df3 = pd.read_csv(\"https://ourworldindata.org/grapher/international-tourist-arrivals-by-region-of-origin.csv?v=1&csvType=full&useColumnShortNames=true\", storage_options = {'User-Agent': 'Our World In Data data fetch/1.0'})\n",
    "\n",
    "# Fetch the metadata\n",
    "metadata = requests.get(\"https://ourworldindata.org/grapher/international-tourist-arrivals-by-region-of-origin.metadata.json?v=1&csvType=full&useColumnShortNames=true\").json()"
   ]
  },
  {
   "cell_type": "code",
   "execution_count": null,
   "metadata": {},
   "outputs": [],
   "source": [
    "df3.to_csv(r'A:\\\\UET-VNU\\\\Covid19_KNK\\\\Datacovid19\\\\travel.csv')"
   ]
  },
  {
   "cell_type": "markdown",
   "metadata": {},
   "source": [
    "# Dữ liệu về gdp tỉ lệ thhất nghiệp của các nước phát triển từ WORLD BANK"
   ]
  },
  {
   "cell_type": "code",
   "execution_count": null,
   "metadata": {},
   "outputs": [
    {
     "name": "stdout",
     "output_type": "stream",
     "text": [
      "Indicator Country  Year  GDP Growth (%)  Unemployment Rate (%)\n",
      "0              AR  2021       10.718010               8.736000\n",
      "1              AR  2022        4.956370               6.805000\n",
      "2              AU  2021        2.111831               5.116000\n",
      "3              AU  2022        4.268946               3.701000\n",
      "4              BR  2021        4.762604              13.159000\n",
      "5              BR  2022        3.016694               9.231000\n",
      "6              CA  2021        5.286957               7.527000\n",
      "7              CA  2022        3.819866               5.280000\n",
      "8              CN  2021        8.448469               4.550000\n",
      "9              CN  2022        2.989084               4.980000\n",
      "10             DE  2021        3.163820               3.638000\n",
      "11             DE  2022        1.806209               3.135000\n",
      "12             EU  2021        6.008729               7.022608\n",
      "13             EU  2022        3.478654               6.147076\n",
      "14             FR  2021        6.435210               7.874000\n",
      "15             FR  2022        2.454758               7.308000\n",
      "16             GB  2021        8.674904               4.826000\n",
      "17             GB  2022        4.345229               3.730000\n",
      "18             ID  2021        3.702886               3.827000\n",
      "19             ID  2022        5.307419               3.462000\n",
      "20             IN  2021        9.689592               6.380000\n",
      "21             IN  2022        6.987039               4.822000\n",
      "22             IT  2021        8.310240               9.497000\n",
      "23             IT  2022        3.985897               8.069000\n",
      "24             JP  2021        2.559320               2.828000\n",
      "25             JP  2022        0.954737               2.600000\n",
      "26             KR  2021        4.304735               3.639000\n",
      "27             KR  2022        2.612672               2.857000\n",
      "28             MX  2021        5.739208               4.019000\n",
      "29             MX  2022        3.949000               3.256000\n",
      "30             RU  2021        5.614290               4.715000\n",
      "31             RU  2022       -2.069712               3.867000\n",
      "32             SA  2021        5.075110               6.621000\n",
      "33             SA  2022        7.485984               5.589000\n",
      "34             TR  2021       11.439385              11.969000\n",
      "35             TR  2022        5.533469              10.432000\n",
      "36             US  2021        5.800206               5.349000\n",
      "37             US  2022        1.935496               3.650000\n",
      "38             VN  2021        2.553729               2.385000\n",
      "39             VN  2022        8.123514               1.535000\n",
      "40             ZA  2021        4.703062              28.770000\n",
      "41             ZA  2022        1.910406              28.838000\n"
     ]
    }
   ],
   "source": [
    "import requests\n",
    "import pandas as pd\n",
    "# Danh sách các nước G20 + Việt Nam\n",
    "countries = ['VN', 'AR', 'AU', 'BR', 'CA', 'CN', 'FR', 'DE', 'IN', 'ID', 'IT', 'JP', 'KR', 'MX', 'RU', 'SA', 'ZA', 'TR', 'GB', 'US', 'EU']\n",
    "# Các chỉ số cần lấy\n",
    "indicators = {\n",
    "    \"GDP Growth (%)\": \"NY.GDP.MKTP.KD.ZG\",\n",
    "    \"Unemployment Rate (%)\": \"SL.UEM.TOTL.ZS\"\n",
    "}\n",
    "# Giai đoạn thời gian\n",
    "years = [2021, 2022]\n",
    "\n",
    "# Base URL của World Bank API\n",
    "base_url = \"http://api.worldbank.org/v2/country/{}/indicator/{}\"\n",
    "# Tập hợp dữ liệu\n",
    "data = []\n",
    "for country in countries:\n",
    "    for indicator_name, indicator_code in indicators.items():\n",
    "        for year in years:\n",
    "            try:\n",
    "                # Gửi yêu cầu tới API\n",
    "                url = base_url.format(country, indicator_code)\n",
    "                response = requests.get(url, params={\"date\": year, \"format\": \"json\"})\n",
    "                response.raise_for_status() # Raise HTTPError for bad responses (4xx or 5xx)\n",
    "                response_data = response.json()\n",
    "\n",
    "                # Kiểm tra dữ liệu phản hồi một cách rõ ràng hơn\n",
    "                if response_data[0]['page'] * response_data[0]['pages'] < response_data[0]['total']:\n",
    "                    print(f\"Warning: Not all data retrieved for {country}, {indicator_name}, {year}. Pagination may be required.\")\n",
    "\n",
    "                if len(response_data) > 1 and response_data[1]:\n",
    "                    value = response_data[1][0].get(\"value\")\n",
    "                else:\n",
    "                    value = None\n",
    "\n",
    "                # Thêm dữ liệu vào danh sách\n",
    "                data.append({\n",
    "                    \"Country\": country,\n",
    "                    \"Year\": year,\n",
    "                    \"Indicator\": indicator_name,\n",
    "                    \"Value\": value\n",
    "                })\n",
    "\n",
    "            except requests.exceptions.RequestException as e:\n",
    "                print(f\"Error fetching data for {country} ({indicator_name} in {year}): {e}\")\n",
    "\n",
    "\n",
    "# Chuyển đổi thành DataFrame\n",
    "df = pd.DataFrame(data)\n",
    "# Tạo bảng dạng pivot để dễ quan sát\n",
    "pivot_df = df.pivot(index=[\"Country\", \"Year\"], columns=\"Indicator\", values=\"Value\").reset_index()\n",
    "# Hiển thị dữ liệu\n",
    "print(pivot_df)\n",
    "# Lưu vào file CSV\n",
    "pivot_df.to_csv(r'A:\\\\UET-VNU\\\\Covid19_KNK\\\\Datacovid19\\\\worldbank_data_g20_vietnam_2021_2022.csv', index=False)"
   ]
  }
 ],
 "metadata": {
  "kernelspec": {
   "display_name": "Python 3",
   "language": "python",
   "name": "python3"
  },
  "language_info": {
   "codemirror_mode": {
    "name": "ipython",
    "version": 3
   },
   "file_extension": ".py",
   "mimetype": "text/x-python",
   "name": "python",
   "nbconvert_exporter": "python",
   "pygments_lexer": "ipython3",
   "version": "3.12.4"
  }
 },
 "nbformat": 4,
 "nbformat_minor": 2
}
